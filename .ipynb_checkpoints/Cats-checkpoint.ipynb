{
 "cells": [
  {
   "cell_type": "code",
   "execution_count": null,
   "metadata": {
    "scrolled": true
   },
   "outputs": [],
   "source": [
    "%load_ext jupyternotify\n",
    "\n",
    "# DATA_DIR = \"/content/drive/My Drive/Colab Notebooks/Generative models/\"\n",
    "DATA_DIR = \"/home/v-eliseev/Datasets/cats/\""
   ]
  },
  {
   "cell_type": "code",
   "execution_count": null,
   "metadata": {
    "scrolled": true
   },
   "outputs": [],
   "source": [
    "import numpy as np\n",
    "import matplotlib.pyplot as plt\n",
    "%matplotlib inline \n",
    "from matplotlib.pyplot import figure\n",
    "\n",
    "import cv2\n",
    "\n",
    "import math\n",
    "\n",
    "import torch\n",
    "import torch.nn as nn\n",
    "import torch.nn.functional as F\n",
    "\n",
    "\n",
    "from IPython.display import clear_output\n",
    "\n",
    "import os\n",
    "import torch\n",
    "import pandas as pd\n",
    "from skimage import io, transform\n",
    "import numpy as np\n",
    "import matplotlib.pyplot as plt\n",
    "import matplotlib.patches as patches\n",
    "from torch.utils.data import Dataset, DataLoader\n",
    "from torchvision import transforms, utils\n",
    "import torchvision.utils as vutils\n",
    "\n",
    "\n",
    "import matplotlib.animation as animation\n",
    "from IPython.display import HTML\n",
    "\n",
    "# Ignore warnings\n",
    "import warnings\n",
    "warnings.filterwarnings(\"ignore\")\n",
    "\n",
    "# plt.ion()   # interactive mode"
   ]
  },
  {
   "cell_type": "code",
   "execution_count": null,
   "metadata": {},
   "outputs": [],
   "source": [
    "import matplotlib\n",
    "matplotlib.rcParams['animation.embed_limit'] = 2**10"
   ]
  },
  {
   "cell_type": "code",
   "execution_count": null,
   "metadata": {},
   "outputs": [],
   "source": [
    "from tqdm.notebook import trange, tqdm"
   ]
  },
  {
   "cell_type": "code",
   "execution_count": null,
   "metadata": {},
   "outputs": [],
   "source": [
    "# %%capture output\n"
   ]
  },
  {
   "cell_type": "code",
   "execution_count": null,
   "metadata": {},
   "outputs": [],
   "source": [
    "# output.show()"
   ]
  },
  {
   "cell_type": "markdown",
   "metadata": {},
   "source": [
    "## Dataset prepare"
   ]
  },
  {
   "cell_type": "raw",
   "metadata": {},
   "source": [
    "dirs = ['CAT_00/', 'CAT_01/', 'CAT_02/', 'CAT_03/', 'CAT_04/', 'CAT_05/', 'CAT_06/']\n",
    "\n",
    "def bbox(points, pw, ph):\n",
    "    points = points[1:]\n",
    "    x1 = min(points[::2])\n",
    "    y1 = min(points[1::2])\n",
    "    x2 = max(points[::2])\n",
    "    y2 = max(points[1::2])\n",
    "    w = x2-x1\n",
    "    h = (y2-y1)*1.3\n",
    "    if y1+h > ph:\n",
    "        h = (y2-y1)\n",
    "    \n",
    "    x1 = int(max(0, x1-w*0.06))\n",
    "    y1 = int(max(0, y1-h*0.02))\n",
    "    w *= 1\n",
    "    h *= 1\n",
    "    return [x1, y1, int(max(w, h)), int(max(w, h))]\n",
    "a = 0\n",
    "for d in dirs:\n",
    "    for (dirpath, dirnames, filenames) in os.walk(DATA_DIR+d):\n",
    "        for i in range(len(filenames)):\n",
    "            img_name = os.path.join(DATA_DIR, d, filenames[i])\n",
    "            if img_name[-4:] == \".cat\":\n",
    "                continue\n",
    "            image = io.imread(img_name)\n",
    "            \n",
    "            points = list(map(int, open(os.path.join(DATA_DIR, d, filenames[i] + '.cat')).read().split()))\n",
    "            x, y, w, h = bbox(points, image.shape[1], image.shape[0])\n",
    "            image = image[y:y+h, x:x+w]\n",
    "            image = transform.resize(image, (128, 128), anti_aliasing=True)*255\n",
    "            io.imsave(os.path.join(DATA_DIR, 'faces', '{:05d}.png'.format(a)), image.astype(np.uint8))\n",
    "            a+=1\n",
    "            if a%500 == 0:\n",
    "                print(a)\n",
    "\n",
    "print(a)\n"
   ]
  },
  {
   "cell_type": "markdown",
   "metadata": {},
   "source": [
    "## Dataset"
   ]
  },
  {
   "cell_type": "code",
   "execution_count": null,
   "metadata": {
    "scrolled": true
   },
   "outputs": [],
   "source": [
    "DATA_DIR = \"/home/v-eliseev/Datasets/cats/\"\n",
    "\n",
    "class CatsDataset(Dataset):\n",
    "    def __init__(self, names_file, img_dir, transform=None):\n",
    "        self.names = pd.read_csv(names_file)\n",
    "        self.img_dir = img_dir\n",
    "        self.transform = transform\n",
    "\n",
    "    def __len__(self):\n",
    "        return len(self.names)\n",
    "\n",
    "    def __getitem__(self, idx):\n",
    "        if torch.is_tensor(idx):\n",
    "            idx = idx.tolist()\n",
    "\n",
    "        img_name = os.path.join(self.img_dir,\n",
    "                                self.names.iloc[idx, 0])\n",
    "        image = io.imread(img_name)\n",
    "\n",
    "        if self.transform:\n",
    "            image = self.transform(image)\n",
    "\n",
    "        return image"
   ]
  },
  {
   "cell_type": "code",
   "execution_count": null,
   "metadata": {
    "scrolled": true
   },
   "outputs": [],
   "source": [
    "class Preprocess(object):\n",
    "    \"\"\"Convert ndarrays in sample to Tensors.\"\"\"\n",
    "\n",
    "    def __call__(self, sample):\n",
    "        # resize\n",
    "        image = cv2.resize(sample, dsize=(32, 32), interpolation=cv2.INTER_CUBIC)\n",
    "        # map to [-1; 1]\n",
    "        image = (image.astype(np.float)*2-255)/255\n",
    "        # swap color axis because\n",
    "        # numpy image: H x W x C\n",
    "        # torch image: C X H X W\n",
    "        image = image.transpose((2, 0, 1))\n",
    "        return torch.from_numpy(image).float()"
   ]
  },
  {
   "cell_type": "code",
   "execution_count": null,
   "metadata": {
    "scrolled": true
   },
   "outputs": [],
   "source": [
    "def imshow(img, ax, name=None):\n",
    "    img = np.transpose(img.numpy(), (1, 2, 0))\n",
    "    ax.imshow(img)\n",
    "    ax.axis('off')\n",
    "    if name != None:\n",
    "        plt.savefig(name + \".png\")\n",
    "    else:\n",
    "        plt.show()"
   ]
  },
  {
   "cell_type": "code",
   "execution_count": null,
   "metadata": {
    "scrolled": true
   },
   "outputs": [],
   "source": [
    "cats_dataset = CatsDataset(names_file=DATA_DIR+\"faces_index.txt\", img_dir=DATA_DIR+\"faces/\", transform=Preprocess())\n",
    "dataloader = DataLoader(cats_dataset, batch_size=16,\n",
    "                        shuffle=True, num_workers=0)"
   ]
  },
  {
   "cell_type": "code",
   "execution_count": null,
   "metadata": {},
   "outputs": [],
   "source": [
    "def noisy(image, device='cpu:0'):\n",
    "    b = -0.15\n",
    "    a = 0.15\n",
    "    mean = np.random.random_sample()*(b - a) + a\n",
    "    var = 0.003\n",
    "    sigma = var**0.5\n",
    "    gauss = torch.randn(image.size(), device=device)*sigma  + mean\n",
    "    noisy = image + gauss\n",
    "    return torch.clamp(noisy, -1.0, 1.0)\n"
   ]
  },
  {
   "cell_type": "code",
   "execution_count": null,
   "metadata": {
    "scrolled": false
   },
   "outputs": [],
   "source": [
    "import torchvision\n",
    "\n",
    "for i_batch, im in enumerate(dataloader):\n",
    "#     print(i_batch, sample_batched.size())\n",
    "\n",
    "    if i_batch == 0:\n",
    "        fig, ax = plt.subplots()\n",
    "        fig.dpi = 250\n",
    "        im = noisy(im)\n",
    "        im = (im+1.0)/2.0\n",
    "        \n",
    "        imshow(torchvision.utils.make_grid(im, nrow=4), ax)\n",
    "        break"
   ]
  },
  {
   "cell_type": "markdown",
   "metadata": {},
   "source": [
    "## Models\n"
   ]
  },
  {
   "cell_type": "code",
   "execution_count": null,
   "metadata": {},
   "outputs": [],
   "source": [
    "# TEST\n",
    "# f = torch.randn(64, LATENT, 1, 1)\n",
    "# c1 = nn.ConvTranspose2d(LATENT, 512, (4, 4), 1, 0, bias=False) # ->4x4\n",
    "# c1(f).shape\n",
    "\n",
    "# l1 = nn.Linear(in_features=LATENT, out_features=2048)\n",
    "# c1.weight.shape"
   ]
  },
  {
   "cell_type": "code",
   "execution_count": null,
   "metadata": {
    "scrolled": true
   },
   "outputs": [],
   "source": [
    "BATCH_SIZE = 64\n",
    "LATENT   = 100\n",
    "LATENT_2 = 100 # 16x16+\n",
    "\n",
    "dataloader = DataLoader(cats_dataset, batch_size=BATCH_SIZE,\n",
    "                        shuffle=True, num_workers=0)"
   ]
  },
  {
   "cell_type": "code",
   "execution_count": null,
   "metadata": {},
   "outputs": [],
   "source": [
    "# custom weights initialization called on netG and netD\n",
    "def weights_init(m):\n",
    "    classname = m.__class__.__name__\n",
    "    if classname.find('Conv') != -1:\n",
    "        nn.init.normal_(m.weight.data, 0.0, 0.02)\n",
    "    elif classname.find('BatchNorm') != -1:\n",
    "        nn.init.normal_(m.weight.data, 1.0, 0.02)\n",
    "        nn.init.constant_(m.bias.data, 0)"
   ]
  },
  {
   "cell_type": "code",
   "execution_count": null,
   "metadata": {
    "scrolled": true
   },
   "outputs": [],
   "source": [
    "class Generator(nn.Module):\n",
    "    def __init__(self):\n",
    "        super(Generator, self).__init__()\n",
    "\n",
    "        self.l1 = nn.Linear(in_features=LATENT, out_features=LATENT*2)\n",
    "        self.lb1 = nn.BatchNorm1d(LATENT*2)\n",
    "        self.l2 = nn.Linear(in_features=LATENT*2, out_features=LATENT*3)\n",
    "        self.lb2 = nn.BatchNorm1d(LATENT*3)\n",
    "        self.l3 = nn.Linear(in_features=LATENT*3, out_features=LATENT)\n",
    "        self.lb3 = nn.BatchNorm1d(LATENT)\n",
    "\n",
    "        self.c1 = nn.ConvTranspose2d(LATENT, 512, (4, 4), 1, 0, bias=True) # -> 4x4\n",
    "        self.b1 = nn.BatchNorm2d(512)\n",
    "\n",
    "        self.c2 = nn.ConvTranspose2d(512,    128, (4, 4), 2, 1, bias=True) # -> 8x8\n",
    "        self.b2 = nn.BatchNorm2d(128)\n",
    "\n",
    "        self.c3 = nn.ConvTranspose2d(128,    64, (4, 4), 2, 1, bias=True) # -> 16x16\n",
    "        self.b3 = nn.BatchNorm2d(64)\n",
    "        \n",
    "#         self.cc1 = nn.Conv2d(512, 256, (3, 3), 1, 1, bias=True) # -> 16x16\n",
    "#         self.ccb1 = nn.BatchNorm2d(256)\n",
    "        \n",
    "        self.c4 = nn.ConvTranspose2d(64,     3, (4, 4), 2, 1, bias=True) # -> 32x32\n",
    "        self.b4 = nn.BatchNorm2d(3)\n",
    "        \n",
    "#         self.cc2 = nn.Conv2d(256, 3, (3, 3), 1, 1, bias=True) # -> 32x32\n",
    "#         self.ccb2 = nn.BatchNorm2d(128)\n",
    "\n",
    "        \n",
    "#         self.c5 = nn.ConvTranspose2d(64,      3, (4, 4), 2, 1, bias=True) # -> 64x64\n",
    "#         self.b5 = nn.BatchNorm2d(64)\n",
    "        \n",
    "#         self.cc3 = nn.Conv2d(64, 3, (3, 3), 1, 1, bias=True) # -> 64x64\n",
    "\n",
    "        self.drop = nn.Dropout(p=0.01)\n",
    "\n",
    "    def forward(self, z1):\n",
    "        x = self.l1(z1)\n",
    "        x = self.lb1(x)\n",
    "        x = F.leaky_relu(x)\n",
    "        \n",
    "        x = self.l2(x)\n",
    "        x = self.lb2(x)\n",
    "        x = F.leaky_relu(x)\n",
    "        \n",
    "        x = self.l3(x)\n",
    "        x = self.lb3(x)\n",
    "        x = F.leaky_relu(x)\n",
    "        \n",
    "        x = x.view(-1, LATENT, 1, 1)\n",
    "    \n",
    "        x = self.c1(x)\n",
    "        x = self.b1(x)\n",
    "        x = F.leaky_relu(x)\n",
    "\n",
    "        x = self.c2(x)\n",
    "        x = self.b2(x)\n",
    "        x = F.leaky_relu(x)\n",
    "\n",
    "        x = self.c3(x)\n",
    "        x = self.b3(x)\n",
    "        x = F.leaky_relu(x)\n",
    "        \n",
    "#         x = self.cc1(x)\n",
    "#         x = self.ccb1(x)\n",
    "#         x = F.leaky_relu(x)\n",
    "\n",
    "        x = self.c4(x)\n",
    "#         x = self.b4(x)\n",
    "#         x = F.leaky_relu(x)\n",
    "                \n",
    "#         x = self.cc2(x)\n",
    "#         x = self.ccb2(x)\n",
    "#         x = F.leaky_relu(x)\n",
    "\n",
    "#         x = self.c5(x)\n",
    "#         x = self.b5(x)\n",
    "#         x = F.leaky_relu(x)\n",
    "        \n",
    "#         x = self.cc3(x)\n",
    "        x = torch.tanh(x)\n",
    "        \n",
    "        return x\n",
    "\n",
    "gen = Generator().cuda()\n",
    "gen.apply(weights_init)"
   ]
  },
  {
   "cell_type": "code",
   "execution_count": null,
   "metadata": {
    "scrolled": true
   },
   "outputs": [],
   "source": [
    "class Discriminator(nn.Module):\n",
    "    def __init__(self):\n",
    "        super(Discriminator, self).__init__()\n",
    "        \n",
    "#         self.c1 = nn.Conv2d(3, 64, 4, 2, padding=1)  # ->32x32\n",
    "#         self.b1 = nn.BatchNorm2d(64)\n",
    "        \n",
    "#         self.c2 = nn.Conv2d(64, 64, 3, 1, padding=1)  # ->32x32\n",
    "#         self.b2 = nn.BatchNorm2d(64)\n",
    "\n",
    "        self.c3 = nn.Conv2d(3, 128, 4, 2, padding=1)  # ->16x16\n",
    "        self.b3 = nn.BatchNorm2d(128)\n",
    "        \n",
    "        self.c4 = nn.Conv2d(128, 256, 4, 2, padding=1)  # ->8x8\n",
    "        self.b4 = nn.BatchNorm2d(256)\n",
    "        \n",
    "        self.c5 = nn.Conv2d(256, 512, 4, 2, padding=1)  # ->4x4\n",
    "        self.b5 = nn.BatchNorm2d(512)\n",
    "        \n",
    "\n",
    "#         self.c5 = nn.Conv2d(512, 512, 3, 2, padding=1)  # ->8x8\n",
    "#         self.b5 = nn.BatchNorm2d(64)\n",
    "        \n",
    "#         self.c6 = nn.Conv2d(512, 1024, 3, 2, padding=1)  # ->4x4\n",
    "#         self.b6 = nn.BatchNorm2d(32)\n",
    "        \n",
    "#         self.c5 = nn.Conv2d(512, 512, 3, 1, padding=1)   # ->8x8\n",
    "\n",
    "        self.l1 = nn.Linear(in_features=512*4*4, out_features=1)\n",
    "#         self.l2 = nn.Linear(in_features=8*4*4, out_features=1)\n",
    "\n",
    "        \n",
    "        self.drop = nn.Dropout(p=0.3)\n",
    "        \n",
    "    def forward(self, x):\n",
    "#         x = self.c1(z1)\n",
    "#         x = self.b1(x)\n",
    "#         x = F.leaky_relu(x)\n",
    "\n",
    "#         x = self.c2(x)\n",
    "#         x = self.b2(x)\n",
    "#         x = F.leaky_relu(x)\n",
    "\n",
    "        x = self.c3(x)\n",
    "        x = self.b3(x)\n",
    "        x = F.leaky_relu(x)\n",
    "        \n",
    "        x = self.c4(x)\n",
    "        x = self.b4(x)\n",
    "        x = F.leaky_relu(x)\n",
    "        \n",
    "        x = self.c5(x)\n",
    "        x = self.b5(x)\n",
    "        x = F.leaky_relu(x)\n",
    "        \n",
    "#         x = self.c6(x)\n",
    "#         x = self.b6(x)\n",
    "#         x = F.leaky_relu(x)\n",
    "        \n",
    "        x = x.view(-1, 512*4*4)\n",
    "        x = self.l1(x)\n",
    "\n",
    "        return x\n",
    "    \n",
    "dis = Discriminator().cuda()\n",
    "dis.apply(weights_init)"
   ]
  },
  {
   "cell_type": "code",
   "execution_count": null,
   "metadata": {
    "scrolled": false
   },
   "outputs": [],
   "source": [
    "data = gen(torch.randn(16, LATENT).cuda()).cpu()\n",
    "fig, ax = plt.subplots()\n",
    "fig.dpi = 250\n",
    "imshow(torchvision.utils.make_grid((data.detach()+1)/2, nrow=4), ax)\n",
    "print(dis(data.cuda()).detach())\n",
    "plt.close()"
   ]
  },
  {
   "cell_type": "code",
   "execution_count": null,
   "metadata": {
    "scrolled": true
   },
   "outputs": [],
   "source": [
    "device = 'cuda'\n",
    "\n",
    "gen = Generator().to(device)\n",
    "dis = Discriminator().to(device)\n",
    "gen.apply(weights_init)\n",
    "dis.apply(weights_init)\n",
    "\n",
    "fixed_noise  = torch.randn(36, LATENT, device=device)\n",
    "\n",
    "real_label = 0.9\n",
    "fake_label = 0.0\n",
    "\n",
    "img_list = []\n",
    "G_losses = []\n",
    "D_losses = []\n",
    "iters = 0"
   ]
  },
  {
   "cell_type": "code",
   "execution_count": null,
   "metadata": {},
   "outputs": [],
   "source": [
    "def sigmoid(x):\n",
    "      return 1 / (1 + math.exp(-x))"
   ]
  },
  {
   "cell_type": "code",
   "execution_count": null,
   "metadata": {
    "scrolled": true
   },
   "outputs": [],
   "source": [
    "import torch.optim as optim\n",
    "\n",
    "op_gen = optim.Adam(gen.parameters(), lr=0.00007, betas=(0.5, 0.999))\n",
    "op_dis = optim.Adam(dis.parameters(), lr=0.0001, betas=(0.5, 0.999)) \n",
    "# criterion = nn.BCELoss()\n",
    "criterion = nn.BCEWithLogitsLoss()\n",
    "# criterion = nn.MSELoss()"
   ]
  },
  {
   "cell_type": "code",
   "execution_count": null,
   "metadata": {
    "scrolled": false
   },
   "outputs": [],
   "source": [
    "%%notify\n",
    "dataiter = iter(dataloader)\n",
    "stepsD = 1\n",
    "stepsG = 1\n",
    "steper = 0\n",
    "num_epochs = 100\n",
    "\n",
    "g_loss = criterion(torch.zeros(1), torch.zeros(1))\n",
    "d_loss = criterion(torch.zeros(1), torch.zeros(1))\n",
    "\n",
    "pbar = tqdm()\n",
    "pbar.reset(total=num_epochs*len(dataloader))  # initialise with new `total`\n",
    "\n",
    "for epoch in range(num_epochs):\n",
    "    if epoch == 25:\n",
    "        op_gen = optim.Adam(gen.parameters(), lr=0.000007, betas=(0.5, 0.999))\n",
    "        op_dis = optim.Adam(dis.parameters(), lr=0.00001, betas=(0.5, 0.999))\n",
    "    if epoch == 50:\n",
    "        op_gen = optim.Adam(gen.parameters(), lr=0.0000028, betas=(0.5, 0.999))\n",
    "        op_dis = optim.Adam(dis.parameters(), lr=0.000004, betas=(0.5, 0.999))\n",
    "\n",
    "    for i, data in enumerate(dataloader, 0):\n",
    "        data_device = data.to(device)\n",
    "        if steper == stepsD + stepsG - 1:\n",
    "            steper = 0\n",
    "            \n",
    "        if steper < stepsD:\n",
    "            # Discriminator\n",
    "            op_dis.zero_grad()\n",
    "            # True\n",
    "\n",
    "#             imgs = noisy(data_device, device=device)\n",
    "            imgs = data_device\n",
    "\n",
    "            output_real = dis(imgs).view(-1)\n",
    "\n",
    "            label_real = torch.full((output_real.size()[0],), real_label, device=device) \n",
    "            D_x = output_real.mean().item()\n",
    "\n",
    "            # False\n",
    "            z = torch.randn(imgs.size()[0], LATENT, device=device)\n",
    "            imgs = gen(z)\n",
    "#             imgs = noisy(imgs, device=device)\n",
    "\n",
    "            output_fake = dis(imgs).view(-1)\n",
    "            label_fake = torch.full((output_fake.size()[0],), fake_label, device=device)\n",
    "\n",
    "\n",
    "            real_loss = criterion(output_real-output_fake, label_real)\n",
    "            fake_loss = criterion(output_fake-output_real, label_fake)\n",
    "\n",
    "            d_loss = (real_loss + fake_loss) / 2\n",
    "\n",
    "            d_loss.backward()\n",
    "\n",
    "            D_G_z1 = output_fake.mean().item()\n",
    "\n",
    "            op_dis.step()\n",
    "                            \n",
    "        if steper >= stepsD - 1:\n",
    "            # Generator\n",
    "            op_gen.zero_grad()\n",
    "\n",
    "#             imgs = noisy(data_device, device=device)\n",
    "            imgs = data_device\n",
    "\n",
    "            output_real = dis(imgs).view(-1)\n",
    "\n",
    "            z = torch.randn(imgs.size()[0], LATENT, device=device)\n",
    "            output_fake = dis(gen(z)).view(-1)\n",
    "\n",
    "            label_g = torch.full((output_fake.size()[0],), real_label, device=device) \n",
    "            g_loss = criterion(output_fake-output_real, label_g)\n",
    "            g_loss.backward()\n",
    "\n",
    "            op_gen.step()\n",
    "            D_G_z2 = output_fake.mean().item()\n",
    "                            \n",
    "        if i == len(dataloader) - 1:\n",
    "            print('[{:3d}/{:d}][{:3d}/{:d}]  Loss_D: {:.4f}  Loss_G: {:.4f} | D(x): {:.4f}  D(G(z)): {:.4f} / {:.4f}'.format(\n",
    "                epoch, num_epochs-1, i, len(dataloader)-1,\n",
    "                d_loss.item(), g_loss.item(), sigmoid(D_x), sigmoid(D_G_z1), sigmoid(D_G_z2)))\n",
    "\n",
    "                            \n",
    "        if iters % 100 == 0:\n",
    "            G_losses.append(g_loss.item())\n",
    "            D_losses.append(d_loss.item())\n",
    "            \n",
    "        if i == len(dataloader) - 1:\n",
    "            with torch.no_grad():\n",
    "                fake = gen(fixed_noise).detach().cpu()\n",
    "            img_list.append(vutils.make_grid(fake, padding=2, normalize=True, nrow=6))\n",
    "\n",
    "        iters += 1\n",
    "        steper += 1\n",
    "        pbar.update()"
   ]
  },
  {
   "cell_type": "code",
   "execution_count": null,
   "metadata": {},
   "outputs": [],
   "source": [
    "plt.figure(figsize=(10,5))\n",
    "plt.title(\"Generator and Discriminator Loss During Training\")\n",
    "plt.plot(G_losses,label=\"G\")\n",
    "plt.plot(D_losses,label=\"D\")\n",
    "plt.xlabel(\"iterations\")\n",
    "plt.ylabel(\"Loss\")\n",
    "plt.legend()\n",
    "plt.show()"
   ]
  },
  {
   "cell_type": "code",
   "execution_count": null,
   "metadata": {},
   "outputs": [],
   "source": []
  },
  {
   "cell_type": "code",
   "execution_count": null,
   "metadata": {},
   "outputs": [],
   "source": [
    "# Grab a batch of real images from the dataloader\n",
    "real_batch = next(iter(dataloader))\n",
    "\n",
    "# Plot the real images\n",
    "plt.figure(figsize=(25,25))\n",
    "plt.subplot(2,1,1)\n",
    "plt.axis(\"off\")\n",
    "plt.title(\"Real Images\")\n",
    "plt.imshow(np.transpose(vutils.make_grid(real_batch.to('cuda:0')[:16], padding=5, normalize=True, nrow=4).cpu(),(1,2,0)))\n",
    "\n",
    "# Plot the fake images from the last epoch\n",
    "plt.subplot(2,1,2)\n",
    "plt.axis(\"off\")\n",
    "plt.title(\"Fake Images\")\n",
    "noise = torch.randn(16, LATENT).cuda()\n",
    "plt.imshow(np.transpose(vutils.make_grid(gen(noise).detach(), padding=5, normalize=True, nrow=4).cpu(),(1,2,0)))\n",
    "plt.show()"
   ]
  },
  {
   "cell_type": "code",
   "execution_count": null,
   "metadata": {},
   "outputs": [],
   "source": [
    "def image_with_title(img, title_text, info_text):\n",
    "    plt.axis('off');\n",
    "#     title = plt.text(0,-7,\n",
    "#                     title_text, \n",
    "#                     fontsize=26)\n",
    "#     title.set_bbox(dict(facecolor='white', alpha=1.0, edgecolor='white'))\n",
    "#     info = plt.text(0,32*6+22,\n",
    "#                     info_text, \n",
    "#                     fontsize=14)\n",
    "#     info.set_bbox(dict(facecolor='white', alpha=1.0, edgecolor='white'))\n",
    "    img_n = plt.imshow(np.transpose(img,(1,2,0)), animated=True);\n",
    "    return [img_n]"
   ]
  },
  {
   "cell_type": "code",
   "execution_count": null,
   "metadata": {},
   "outputs": [],
   "source": [
    "#%%capture\n",
    "fig = plt.figure(figsize=(12,12));\n",
    "ims = [\n",
    "    image_with_title(img,\n",
    "                     \"Epoch: {}\".format(i),\n",
    "                     \"[RGAN] Batch size: {0}, Latent space: {1}, size {2}x{2}\".format(BATCH_SIZE, LATENT, 32))\n",
    "    for i, img in enumerate(img_list)\n",
    "    ];\n",
    "ani = animation.ArtistAnimation(fig, ims, interval=200, repeat_delay=1000, blit=True);\n",
    "\n",
    "HTML(ani.to_jshtml())"
   ]
  },
  {
   "cell_type": "code",
   "execution_count": null,
   "metadata": {},
   "outputs": [],
   "source": [
    "ani.save(\"cats3.gif\")"
   ]
  },
  {
   "cell_type": "code",
   "execution_count": null,
   "metadata": {
    "scrolled": true
   },
   "outputs": [],
   "source": [
    "g_w = gen.state_dict()\n",
    "d_w = dis.state_dict()\n",
    "torch.save(g_w, 'c_gen.pth')\n",
    "torch.save(d_w, 'c_dis.pth')"
   ]
  },
  {
   "cell_type": "code",
   "execution_count": null,
   "metadata": {
    "scrolled": true
   },
   "outputs": [],
   "source": [
    "g_w = torch.load('c_gen.pth')\n",
    "d_w = torch.load('c_dis.pth')\n",
    "gen.load_state_dict(g_w)\n",
    "dis.load_state_dict(d_w)"
   ]
  },
  {
   "cell_type": "code",
   "execution_count": null,
   "metadata": {
    "scrolled": true
   },
   "outputs": [],
   "source": [
    "g_w = torch.load('gen_save.pth')\n",
    "d_w = torch.load('dis_save.pth')\n",
    "gen.load_state_dict(g_w)\n",
    "dis.load_state_dict(d_w)"
   ]
  }
 ],
 "metadata": {
  "celltoolbar": "Необработанный формат ячейки",
  "kernelspec": {
   "display_name": "Python 3",
   "language": "python",
   "name": "python3"
  },
  "language_info": {
   "codemirror_mode": {
    "name": "ipython",
    "version": 3
   },
   "file_extension": ".py",
   "mimetype": "text/x-python",
   "name": "python",
   "nbconvert_exporter": "python",
   "pygments_lexer": "ipython3",
   "version": "3.7.9"
  }
 },
 "nbformat": 4,
 "nbformat_minor": 4
}
